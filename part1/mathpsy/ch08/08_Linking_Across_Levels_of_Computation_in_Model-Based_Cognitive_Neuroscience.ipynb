{
 "cells": [
  {
   "cell_type": "markdown",
   "metadata": {},
   "source": [
    "# Chapter 8 Linking Across Levels of Computation in Model-Based Cognitive Neuroscience\n"
   ]
  },
  {
   "cell_type": "markdown",
   "metadata": {},
   "source": [
    "# Contents\n",
    "* Abstract\n",
    "* 8.1 Introduction\n",
    "    - 8.1.1 Applications to Reinforcement Learning, Decision Making and Cognitive Control\n",
    "* 8.2 Cortico-Striatal Interactions During Choice and Learning\n",
    "* 8.3 Higher Level Descriptions\n",
    "* 8.4 Beyond Basic Mechanisms: Uncertainty Driven Exploration and Hierarchical Learning\n",
    "* 8.5 Concluding Comments"
   ]
  },
  {
   "cell_type": "markdown",
   "metadata": {},
   "source": [
    "# Abstract"
   ]
  },
  {
   "cell_type": "markdown",
   "metadata": {},
   "source": [
    "* Computational approaches to cognitive neuroscience encompass\n",
    "    - multiple levels of analysis, \n",
    "    - from detailed biophysical models of neural activity \n",
    "    - to abstract algorithmic or normative models of cognition,\n",
    "    - with several levels in between.\n",
    "* Insights gained from one level of modeling should inform modeling endeavors at the level above and below it. \n",
    "* One way to achieve this synergism is \n",
    "    - to link levels of modeling \n",
    "    - by quantitatively fitting the behavioral outputs of detailed mechanistic models \n",
    "    - with higher level descriptions.\n",
    "* I describe several examples of this approach \n",
    "    - in the domain of \n",
    "        - reward-based learning, \n",
    "        - cognitive control, and \n",
    "        - decision making and \n",
    "    - show how neural and algorithmic models have each informed or refined the other."
   ]
  },
  {
   "cell_type": "markdown",
   "metadata": {},
   "source": [
    "# 8.1 Introduction\n",
    "* 8.1.1 Applications to Reinforcement Learning, Decision Making and Cognitive Control"
   ]
  },
  {
   "cell_type": "markdown",
   "metadata": {},
   "source": [
    "#### linking levels of analysis"
   ]
  },
  {
   "cell_type": "markdown",
   "metadata": {},
   "source": [
    "Cognitive neuroscience is inherently interested in linking levels of analysis, from biological mechanism to cognitive and behavioral phenomena. But there are not just two levels, rather, a continuum of many."
   ]
  },
  {
   "cell_type": "markdown",
   "metadata": {},
   "source": [
    "#### Computational models : unifying coherent framework"
   ]
  },
  {
   "cell_type": "markdown",
   "metadata": {},
   "source": [
    "Computational models greatly facilitate the linking of levels of analysis, because they force one to be explicit about their assumptions, to provide a unifying coherent framework, and to specify the computational objectives of any given cognitive problem which provide constraints on interpreting the underlying mechanisms."
   ]
  },
  {
   "cell_type": "markdown",
   "metadata": {},
   "source": [
    "#### which level of modeling to use"
   ]
  },
  {
   "cell_type": "markdown",
   "metadata": {},
   "source": [
    "* Nevertheless, the question remains of which level of modeling to use. \n",
    "    - The field of computational neuroscience for example typically considers how low level mechanisms can give rise to higher level “behaviors”, but where behavior here is defined in terms of the changes in membrane potentials of individual neurons or even compartments within neurons, or in terms of synchrony of neural firing across populations of cells. \n",
    "    - The field of computational cognitive science, on the other hand, considers how behavioral phenomena might be interpreted as optimizing some computational goal, like minimizing effort costs, maximizing expected future reward, or optimally trading off uncertainty about multiple sources of perceptual and cognitive information to make inferences about causal structure."
   ]
  },
  {
   "cell_type": "markdown",
   "metadata": {},
   "source": [
    "#### multi-level modeling"
   ]
  },
  {
   "cell_type": "markdown",
   "metadata": {},
   "source": [
    "* In this chapter, I advocate an alternative, multi-level modeling strategy to address this issue. \n",
    "* This strategy involves critical integration of the two levels to derive predictions for experiments and to perform quantitative fits to data."
   ]
  },
  {
   "cell_type": "markdown",
   "metadata": {},
   "source": [
    "## 8.1.1 Applications to Reinforcement Learning, Decision Making and Cognitive Control"
   ]
  },
  {
   "cell_type": "markdown",
   "metadata": {},
   "source": [
    "<img src=\"figures/cap8.1.png\" width=600 />"
   ]
  },
  {
   "cell_type": "markdown",
   "metadata": {},
   "source": [
    "<img src=\"figures/cap8.2.png\" width=600 />"
   ]
  },
  {
   "cell_type": "markdown",
   "metadata": {},
   "source": [
    "<img src=\"figures/cap8.3.png\" width=600 />"
   ]
  },
  {
   "cell_type": "markdown",
   "metadata": {},
   "source": [
    "<img src=\"figures/cap8.4.png\" width=600 />"
   ]
  },
  {
   "cell_type": "markdown",
   "metadata": {},
   "source": [
    "# 8.2 Cortico-Striatal Interactions During Choice and Learning"
   ]
  },
  {
   "cell_type": "markdown",
   "metadata": {},
   "source": [
    "# 8.3 Higher Level Descriptions"
   ]
  },
  {
   "cell_type": "markdown",
   "metadata": {},
   "source": [
    "# 8.4 Beyond Basic Mechanisms: Uncertainty Driven Exploration and Hierarchical Learning"
   ]
  },
  {
   "cell_type": "markdown",
   "metadata": {},
   "source": [
    "<img src=\"figures/cap8.5.png\" width=600 />"
   ]
  },
  {
   "cell_type": "markdown",
   "metadata": {},
   "source": [
    "# 8.5 Concluding Comments"
   ]
  },
  {
   "cell_type": "markdown",
   "metadata": {},
   "source": [
    "# 참고자료\n",
    "* [1]"
   ]
  }
 ],
 "metadata": {
  "kernelspec": {
   "display_name": "Python 2",
   "language": "python",
   "name": "python2"
  },
  "language_info": {
   "codemirror_mode": {
    "name": "ipython",
    "version": 2
   },
   "file_extension": ".py",
   "mimetype": "text/x-python",
   "name": "python",
   "nbconvert_exporter": "python",
   "pygments_lexer": "ipython2",
   "version": "2.7.10"
  }
 },
 "nbformat": 4,
 "nbformat_minor": 0
}
