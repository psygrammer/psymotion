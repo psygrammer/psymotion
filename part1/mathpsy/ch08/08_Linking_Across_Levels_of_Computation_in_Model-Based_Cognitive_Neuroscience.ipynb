{
 "cells": [
  {
   "cell_type": "markdown",
   "metadata": {},
   "source": [
    "# Chapter 8 Linking Across Levels of Computation in Model-Based Cognitive Neuroscience\n"
   ]
  },
  {
   "cell_type": "markdown",
   "metadata": {},
   "source": [
    "# Contents\n",
    "* Abstract\n",
    "* 8.1 Introduction\n",
    "    - 8.1.1 Applications to Reinforcement Learning, Decision Making and Cognitive Control\n",
    "* 8.2 Cortico-Striatal Interactions During Choice and Learning\n",
    "* 8.3 Higher Level Descriptions\n",
    "* 8.4 Beyond Basic Mechanisms: Uncertainty Driven Exploration and Hierarchical Learning\n",
    "* 8.5 Concluding Comments"
   ]
  },
  {
   "cell_type": "markdown",
   "metadata": {},
   "source": [
    "# Abstract"
   ]
  },
  {
   "cell_type": "markdown",
   "metadata": {},
   "source": [
    "* Computational approaches to cognitive neuroscience encompass\n",
    "    - multiple levels of analysis, \n",
    "    - from detailed biophysical models of neural activity \n",
    "    - to abstract algorithmic or normative models of cognition,\n",
    "    - with several levels in between.\n",
    "* Insights gained from one level of modeling should inform modeling endeavors at the level above and below it. \n",
    "* One way to achieve this synergism is \n",
    "    - to link levels of modeling \n",
    "    - by quantitatively fitting the behavioral outputs of detailed mechanistic models \n",
    "    - with higher level descriptions.\n",
    "* I describe several examples of this approach \n",
    "    - in the domain of \n",
    "        - reward-based learning, \n",
    "        - cognitive control, and \n",
    "        - decision making and \n",
    "    - show how neural and algorithmic models have each informed or refined the other."
   ]
  },
  {
   "cell_type": "markdown",
   "metadata": {},
   "source": [
    "# 8.1 Introduction\n",
    "* 8.1.1 Applications to Reinforcement Learning, Decision Making and Cognitive Control"
   ]
  },
  {
   "cell_type": "markdown",
   "metadata": {},
   "source": [
    "#### linking levels of analysis"
   ]
  },
  {
   "cell_type": "markdown",
   "metadata": {},
   "source": [
    "Cognitive neuroscience is inherently interested in linking levels of analysis, from biological mechanism to cognitive and behavioral phenomena. But there are not just two levels, rather, a continuum of many."
   ]
  },
  {
   "cell_type": "markdown",
   "metadata": {},
   "source": [
    "#### Computational models : unifying coherent framework"
   ]
  },
  {
   "cell_type": "markdown",
   "metadata": {},
   "source": [
    "Computational models greatly facilitate the linking of levels of analysis, because they force one to be explicit about their assumptions, to provide a unifying coherent framework, and to specify the computational objectives of any given cognitive problem which provide constraints on interpreting the underlying mechanisms."
   ]
  },
  {
   "cell_type": "markdown",
   "metadata": {},
   "source": [
    "#### which level of modeling to use"
   ]
  },
  {
   "cell_type": "markdown",
   "metadata": {},
   "source": [
    "* Nevertheless, the question remains of which level of modeling to use. \n",
    "    - The field of computational neuroscience for example typically considers how low level mechanisms can give rise to higher level “behaviors”, but where behavior here is defined in terms of the changes in membrane potentials of individual neurons or even compartments within neurons, or in terms of synchrony of neural firing across populations of cells. \n",
    "    - The field of computational cognitive science, on the other hand, considers how behavioral phenomena might be interpreted as optimizing some computational goal, like minimizing effort costs, maximizing expected future reward, or optimally trading off uncertainty about multiple sources of perceptual and cognitive information to make inferences about causal structure."
   ]
  },
  {
   "cell_type": "markdown",
   "metadata": {},
   "source": [
    "#### multi-level modeling"
   ]
  },
  {
   "cell_type": "markdown",
   "metadata": {},
   "source": [
    "* In this chapter, I advocate an alternative, multi-level modeling strategy to address this issue. \n",
    "* This strategy involves critical integration of the two levels to derive predictions for experiments and to perform quantitative fits to data."
   ]
  },
  {
   "cell_type": "markdown",
   "metadata": {},
   "source": [
    "## 8.1.1 Applications to Reinforcement Learning, Decision Making and Cognitive Control"
   ]
  },
  {
   "cell_type": "markdown",
   "metadata": {},
   "source": [
    "#### 참고\n",
    "\n",
    "##### general\n",
    "* [2] Functional Neuroanatomy & Neurological Bases of Cognition - http://www.mobility-centres.org.uk/securedarea/presentations/Functional%20Neuroanatomy%20and%20Neurological%20Bases%20of%20Cognition~%20Nigel%20Schofield.ppt\n",
    "\n",
    "##### cortico-basal ganglia \n",
    "* [3] Paul Cisek Model - No \"Decision\" \"Decision-Making\" - http://www.slideshare.net/BrainMoleculeMarketing/uqam2012-cisek\n",
    "* [4] Bear: Neuroscience: Exploring the Brain 3e / Chapter 14: Brain Control of Movement Slide A - http://molneuro.kaist.ac.kr/contents/lecture/2013_fall_pdf/Ch14.ppt\n",
    "* [5] Bear: Neuroscience: Exploring the Brain, 3e Chapter 14: Brain Control of Movement Slide B - http://courses.biology.utah.edu/rose/bio3330/Lectures/Lec%20%2314_Central%20%20motor.ppt\n",
    "* [6] Basal Ganglia - http://ece.ut.ac.ir/classpages/S87/ECE681/Basal%20Ganglia.ppt \n",
    "\n",
    "##### reinforcement learning\n",
    "\n",
    "##### decision making\n",
    "* [7] Decision Making Theories in Neuroscience - http://www.vostroknutov.com/nemeetings/neurochoice.ppt"
   ]
  },
  {
   "cell_type": "markdown",
   "metadata": {},
   "source": [
    "We study the <font color=\"red\">neurocomputational mechanisms</font> of \n",
    "* <font color=\"red\">cortico-basal ganglia functions</font> - including \n",
    "    - action selection, \n",
    "    - reinforcement learning and \n",
    "    - cognitive control"
   ]
  },
  {
   "cell_type": "markdown",
   "metadata": {},
   "source": [
    "#### combination of two distinct levels of computation"
   ]
  },
  {
   "cell_type": "markdown",
   "metadata": {},
   "source": [
    "For theory development, we leverage a <font color=\"red\">combination of two distinct levels</font> of computation.\n",
    "* First, \n",
    "    - our lab and others have simulated interactions within and between <font color=\"red\">corticostriatal circuits</font> \n",
    "        - via dynamical neural systems models \n",
    "            - which specify the roles of particular neural mechanisms\n",
    "* Second, \n",
    "    - we adopt and refine <font color=\"red\">higher level mathematical models</font> \n",
    "        - to analyze the functional properties of the neurocognitive systems, \n",
    "            - affording a principled computational interpretation and \n",
    "            - allowing for tractable quantitative fits to brain-behavior relationships"
   ]
  },
  {
   "cell_type": "markdown",
   "metadata": {},
   "source": [
    "#### tasks & mathematical models & individual performance parameters & assesments"
   ]
  },
  {
   "cell_type": "markdown",
   "metadata": {},
   "source": [
    "For empirical support, \n",
    "* <font color=\"red\">we design computerized tasks</font> \n",
    "    - sensitive to the hypothesized neural computations that\n",
    "        - probe reinforcement learning, \n",
    "        - cognitive control, and \n",
    "        - reward-based decision making under uncertainty.\n",
    "* We provide <font color=\"red\">quantitative estimates</font> of \n",
    "    - <font color=\"red\">individual performance parameters</font> \n",
    "        - <font color=\"blue\">using mathematical models</font>, \n",
    "    - yielding <font color=\"red\">objective assessments</font> of \n",
    "        - the degree to which subjects rely on specific computations \n",
    "            - when learning and making decisions\n",
    "* We assess \n",
    "    - how these parameters vary \n",
    "        - with markers of neural activity (EEG, fMRI), and \n",
    "    - how they are altered \n",
    "        - as a function of \n",
    "            - illness, \n",
    "            - brain stimulation, \n",
    "            - pharmacology, and \n",
    "            - genetics"
   ]
  },
  {
   "cell_type": "markdown",
   "metadata": {},
   "source": [
    "<img src=\"figures/cap8.1.png\" width=600 />"
   ]
  },
  {
   "cell_type": "markdown",
   "metadata": {},
   "source": [
    "#### example"
   ]
  },
  {
   "cell_type": "markdown",
   "metadata": {},
   "source": [
    "This approach has contributed to a <font color=\"red\">coherent depiction of frontostriatal function</font> and <font color=\"red\">testable predictions</font>.\n",
    "\n",
    "As one example, we have identified mechanisms underlying <font color=\"red\">two distinct forms of impulsivity</font>. \n",
    "* The <font color=\"red\">first</font> stems from a deficit in learning from “<font color=\"red\">negative reward prediction errors</font>” \n",
    "    - (when decision outcomes are worse than expected, \n",
    "        - dependent on dips in <font color=\"red\">dopamine and their resultant effects</font> on activity and plasticity in a <font color=\"red\">subpopulation of striatal neurons expressing D2 dopamine receptors</font>). \n",
    "    - Deficiencies in the mechanism \n",
    "        - lead to a <font color=\"blue\">failure to properly consider negative outcomes of prospective decisions</font>, and \n",
    "        - hence lead to a <font color=\"blue\">bias to focus primarily on gains</font>.\n",
    "* The <font color=\"red\">second</font> form of impulsivity stems from a <font color=\"red\">failure to adaptively pause</font> the decision process <font color=\"red\">given conflicting evidence about the values of alternative actions</font> \n",
    "    - (dependent on communication between <font color=\"red\">frontal cortex and the subthalamic nucleus (STN)</font>, \n",
    "        - which temporarily provides a soft brake on motor output).\n",
    "    - Deficiencies in this mechanism \n",
    "        - lead to rash choices, i.e., a <font color=\"blue\">failure to consider the value of all the decision options</font> but \n",
    "            - instead to quickly accept or reject an option based on its value alone. \n",
    "* Notably these two forms of impulsivity \n",
    "    - are differentially impacted \n",
    "        - by distinct forms of treatment in Parkinson’s disease \n",
    "            - – medications that produce \n",
    "                - elevations in dopamine and \n",
    "                - deep brain stimulation of the STN\n",
    "            - — supporting the posited mechanisms \n",
    "                - by which these treatments alter neural circuitry\n",
    "* Further <font color=\"red\">insights come from linking these precise mechanisms to their high level computations</font>"
   ]
  },
  {
   "cell_type": "markdown",
   "metadata": {},
   "source": [
    "<img src=\"figures/cap8.4.png\" width=600 />"
   ]
  },
  {
   "cell_type": "markdown",
   "metadata": {},
   "source": [
    "# 8.2 Cortico-Striatal Interactions During Choice and Learning"
   ]
  },
  {
   "cell_type": "markdown",
   "metadata": {},
   "source": [
    "#### BG(The basal ganglia)"
   ]
  },
  {
   "cell_type": "markdown",
   "metadata": {},
   "source": [
    "The basal ganglia (BG) are a collection of subcortical structures that are anatomi- cally, neurochemically, and functionally linked\n",
    "* Through a network of interconnected loops with the frontal cortex, they modulate motor, cognitive, and affective functions.\n",
    "* “gating function”\n",
    "    - the frontal cortex first generates candidate options based on their prior history of execution in the sensory context and the BG facilitates selection of one of these candidates given their relative learned reward values"
   ]
  },
  {
   "cell_type": "markdown",
   "metadata": {},
   "source": [
    "<img src=\"figures/cap8.1.png\" width=600 />"
   ]
  },
  {
   "cell_type": "markdown",
   "metadata": {},
   "source": [
    "#### Choice"
   ]
  },
  {
   "cell_type": "markdown",
   "metadata": {},
   "source": [
    "Two main projection pathways from the striatum go through different stri- atal nuclei on the way to thalamus and up to cortex.\n",
    "* Go\n",
    "    - Activity in the direct “Go” pathway provides evidence in favor of facilitation of the candidate cortical action, by disinhibiting thalamocortical activity for the action with highest reward value.\n",
    "    - direct pathway neurons convey the positive evidence in favor of that action based on learned reward history\n",
    "* NoGo\n",
    "    - Conversely, activity in the indirect “NoGo” pathway indicates that the action is maladaptive and hence should not be gated.\n",
    "    - indirect pathway neurons signal the negative evidence (likelihood of leading to a negative outcome)\n",
    "* The action most likely to be gated is a function of the relative difference in Go/NoGo activity for each action\n",
    "* Dopamine\n",
    "    - Dopamine influences the cost/benefit tradeoff by modulating the balance of activity in these pathways via differential effects on D1 and D2 receptors, thereby modulating choice incentive (whether choices are determined by positive or negative potential outcomes).\n",
    "* BG-prefrontal cortical circuits\n",
    "    - Similar principles apply to the selection of cognitive actions (notably, working memory gating) in BG-prefrontal cortical circuits\n",
    "* STN\n",
    "    - Finally, conflict between competing choices, represented in mediofrontal/premotor cortices, activates the subthalamic nucleus (STN) via the hyperdirect pathway.\n",
    "* decision threshold\n",
    "    - In turn, STN activity delays action selection, making it more difficult for striatal Go signals to facilitate a choice and buying more time to settle on the optimal choice\n",
    "    - in abstract formulations, this is equivalent to a temporary elevation in the decision threshold (see below; Fig. 8.3)."
   ]
  },
  {
   "cell_type": "markdown",
   "metadata": {},
   "source": [
    "<img src=\"figures/cap8.2.png\" width=600 />"
   ]
  },
  {
   "cell_type": "markdown",
   "metadata": {},
   "source": [
    "<img src=\"figures/cap8.3.png\" width=600 />"
   ]
  },
  {
   "cell_type": "markdown",
   "metadata": {},
   "source": [
    "#### Learning"
   ]
  },
  {
   "cell_type": "markdown",
   "metadata": {},
   "source": [
    "* positive and negative reward prediction errors\n",
    "    - The models simulate phasic changes in dopamine levels that occur during positive and negative reward prediction errors (difference between expected and obtained reward), and their effects on plasticity in the two striatal pathways.\n",
    "* Go learning\n",
    "    - Phasic bursts of dopamine cell firing during positive prediction errors act as teaching signals that drive Go learning of rewarding behaviors via D1 receptor stimulation\n",
    "* NoGo learning\n",
    "    - Conversely, negative prediction errors lead to pauses in dopamine firing, supporting NoGo learning to avoid unrewarding choices via D2 receptor dis- inhibition. \n",
    "* imbalance\n",
    "    - An imbalance in learning or choice in these pathways can lead to a host of aberrant neurological and psychiatric symptoms"
   ]
  },
  {
   "cell_type": "markdown",
   "metadata": {},
   "source": [
    "# 8.3 Higher Level Descriptions"
   ]
  },
  {
   "cell_type": "markdown",
   "metadata": {},
   "source": [
    "Thus far we have considered basic mechanisms in dynamical models of corticostriatal circuits and their resultant effects on behavior.\n",
    "* However, these models are complex\n",
    "* Moreover, because they simulate internal neural dynamics consistent with electrophysiological data, they require many more parameters than is necessary to relate to behavior alone.\n",
    "\n",
    "Higher level computational descriptions allow us to abstract away from the detailed implementation."
   ]
  },
  {
   "cell_type": "markdown",
   "metadata": {},
   "source": [
    "#### Reinforcement Learning (RL)"
   ]
  },
  {
   "cell_type": "markdown",
   "metadata": {},
   "source": [
    "In particular, the tendency to incrementally learn from reward prediction errors and to select among multiple candidate options has been fruitfully modeled using reinforcement learning (RL) models inherited from the computer science literature.\n",
    "* Q values\n",
    "* QG and QN"
   ]
  },
  {
   "cell_type": "markdown",
   "metadata": {},
   "source": [
    "<img src=\"figures/cap8.2.png\" width=600 />"
   ]
  },
  {
   "cell_type": "markdown",
   "metadata": {},
   "source": [
    "#### process model"
   ]
  },
  {
   "cell_type": "markdown",
   "metadata": {},
   "source": [
    "<img src=\"figures/cap8.3.png\" width=600 />"
   ]
  },
  {
   "cell_type": "markdown",
   "metadata": {},
   "source": [
    "# 8.4 Beyond Basic Mechanisms: Uncertainty Driven Exploration and Hierarchical Learning"
   ]
  },
  {
   "cell_type": "markdown",
   "metadata": {},
   "source": [
    "<img src=\"figures/cap8.5.png\" width=600 />"
   ]
  },
  {
   "cell_type": "markdown",
   "metadata": {},
   "source": [
    "# 8.5 Concluding Comments"
   ]
  },
  {
   "cell_type": "markdown",
   "metadata": {},
   "source": [
    "# 참고자료\n",
    "* [1]\n",
    "* [2] Functional Neuroanatomy & Neurological Bases of Cognition - http://www.mobility-centres.org.uk/securedarea/presentations/Functional%20Neuroanatomy%20and%20Neurological%20Bases%20of%20Cognition~%20Nigel%20Schofield.ppt\n",
    "* [3] Paul Cisek Model - No \"Decision\" \"Decision-Making\" - http://www.slideshare.net/BrainMoleculeMarketing/uqam2012-cisek\n",
    "* [4] Bear: Neuroscience: Exploring the Brain 3e / Chapter 14: Brain Control of Movement Slide A - http://molneuro.kaist.ac.kr/contents/lecture/2013_fall_pdf/Ch14.ppt\n",
    "* [5] Bear: Neuroscience: Exploring the Brain, 3e Chapter 14: Brain Control of Movement Slide B - http://courses.biology.utah.edu/rose/bio3330/Lectures/Lec%20%2314_Central%20%20motor.ppt\n",
    "* [6] Basal Ganglia - http://ece.ut.ac.ir/classpages/S87/ECE681/Basal%20Ganglia.ppt \n",
    "* [7] Decision Making Theories in Neuroscience - http://www.vostroknutov.com/nemeetings/neurochoice.ppt\n",
    "* [8] Modeling response inhibition - http://www.slideshare.net/bramzandbelt/modeling-response-inhibition"
   ]
  },
  {
   "cell_type": "code",
   "execution_count": null,
   "metadata": {
    "collapsed": true
   },
   "outputs": [],
   "source": []
  }
 ],
 "metadata": {
  "kernelspec": {
   "display_name": "Python 2",
   "language": "python",
   "name": "python2"
  },
  "language_info": {
   "codemirror_mode": {
    "name": "ipython",
    "version": 2
   },
   "file_extension": ".py",
   "mimetype": "text/x-python",
   "name": "python",
   "nbconvert_exporter": "python",
   "pygments_lexer": "ipython2",
   "version": "2.7.10"
  }
 },
 "nbformat": 4,
 "nbformat_minor": 0
}
