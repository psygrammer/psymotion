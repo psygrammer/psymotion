{
 "cells": [
  {
   "cell_type": "markdown",
   "metadata": {},
   "source": [
    "# 1. Introduction to Affective Computing & 2. The Promise of Affective Computing"
   ]
  },
  {
   "cell_type": "markdown",
   "metadata": {},
   "source": [
    "* 싸이그래머 / 싸이모션 : 파트 1 - affective computing [1]\n",
    "* 김무성"
   ]
  },
  {
   "cell_type": "markdown",
   "metadata": {},
   "source": [
    "---------------------"
   ]
  },
  {
   "cell_type": "markdown",
   "metadata": {},
   "source": [
    "# Content\n",
    "\n",
    "## 1. Introduction to Affective Computing \n",
    "* Section 1: History and Theory\n",
    "* Section 2: Affect Detection\n",
    "* Section 3: Affect Generation\n",
    "* Section 4: Affective Computing Methodologies\n",
    "* Section 5: Affective Computing Applications\n",
    "\n",
    "## SECTION 1 Theories and Models\n",
    "## 2. The Promise of Affective Computing\n",
    "* Introduction\n",
    "* In the Beginning, Laughter ...\n",
    "* Discovering Real Importance for Emotion\n",
    "* Who Wants to Risk Ruining His Reputation?\n",
    "* Visionary Supporters Trump Peer Review\n",
    "* ... to IEEE and Beyond"
   ]
  },
  {
   "cell_type": "markdown",
   "metadata": {},
   "source": [
    "-----------------"
   ]
  },
  {
   "cell_type": "markdown",
   "metadata": {},
   "source": [
    "# 1. Introduction to Affective Computing "
   ]
  },
  {
   "cell_type": "markdown",
   "metadata": {},
   "source": [
    "* affective computing(AC)\n",
    "    - computer science\n",
    "    - computer engineering\n",
    "    - psychology\n",
    "    - education\n",
    "    - neuroscience\n",
    "    - .. and many other diciplines\n",
    "* The handbook features \n",
    "    - 41 chapters including this one,\n",
    "    - and is divided into five key main sections :\n",
    "        - history and theory,\n",
    "        - detection,\n",
    "        - generation,\n",
    "        - methodologies, and\n",
    "        - applications"
   ]
  },
  {
   "cell_type": "markdown",
   "metadata": {},
   "source": [
    "## Section 1: History and Theory"
   ]
  },
  {
   "cell_type": "markdown",
   "metadata": {},
   "source": [
    "* AC is a scientific and engineering endeavor that is both inspire by and also inspire theories from a number of related areas.\n",
    "* This section \n",
    "    - begins Chapter 2 : \"The promise of Affective Computing\"\n",
    "        - AC's history\n",
    "        - major goals\n",
    "    - Chapter 3 : \"A Short History of Psychological Perspectives on Emotion\"\n",
    "        - How are emotions generated?\n",
    "        - How do they influence cognition and behavior?\n",
    "        - What is the nature of emotions?\n",
    "        - How has the emotion system evolved?\n",
    "        - What are the brain structures and processes involved in emtions?\n",
    "    - Chapter 4 : \"Neuroscientific Perspectives of Emotion\"\n",
    "        - They discuss the neurobiological basis of \n",
    "            - fear,\n",
    "            - anger,\n",
    "            - disgust,\n",
    "            - happiness, and\n",
    "            - sadness\n",
    "        - embodied cognition\n",
    "        - human-computer interaction (HCI)\n",
    "    - Chapter 5 : \"Appraisal Model\"\n",
    "        - Informed by all this science, engineers need concreate ways to represent emtions in computer systems, and appraisal theories provide one of the more promising representational structure to advance this goal.\n",
    "        - \"The appraisal theory\" of emotions has been the most widely adopted thery in AC.\n",
    "            - It is well suited for computing research because it provies\n",
    "                - a structured representation of relationships\n",
    "                    between a person and the environment\n",
    "                - the different appraisal variables, and \n",
    "                - other components of the information processing ensemble,\n",
    "                    - all of which are needed to model emotions.\n",
    "    - Chapter 6 : \"Emotions in Interpersional Life : Computer Mediation, Modeling, and Simuation\"\n",
    "        - Interpersional information (information relevant to social interactions) plays \n",
    "            - a critical role in affective human-human interactions, but \n",
    "            - the dynamics of this information might change during human-computer interactions.\n",
    "        - An understanding of the complexity of pertinent issues, such as \n",
    "            - how new media can best communicate social cues, \n",
    "            - is essential in a world where a significant portion of \n",
    "                - interpersonal communication \n",
    "                    - occurs through \"emotionally challenged\" media such as \n",
    "                        - email and \n",
    "                        - social networks.\n",
    "    - Chapter 7 : \"Social Signal processing\"\n",
    "        - This area is closely related to AC in that is seeks to combine \n",
    "            - social science research\n",
    "                - (for understanding and modeling social interactions)\n",
    "            - with research in computer science and engineering,\n",
    "                - which is aimed at developing computers with similar abilities.\n",
    "    - Chapter 8 : \"Why and How to Build Emotion-Based Agent Architecture\"\n",
    "        - Christine lisetti and Eva Hudlicka review som of the emotion theories and discuss how they are used for creating artificial agents that can adapt to users' affect\n",
    "    - Chapter 9 : \"Affect and Machines in the Media\"\n",
    "        - The motivations and the type of questions researchers ask is also, at least partially, linked to society's perceptions of what computers could and should do - perceptions often reflected in the popular media.\n",
    "        - how artificial entities (e.g., computers) that have affective qualiteis have been portrayed in the media across time and \n",
    "        - how these portrayals have influenced AC research."
   ]
  },
  {
   "cell_type": "markdown",
   "metadata": {},
   "source": [
    "## Section 2: Affect Detection"
   ]
  },
  {
   "cell_type": "markdown",
   "metadata": {},
   "source": [
    "* The development of an affect-aware system that sences and responds to an individual's affective states generally requires the system to first detect affect.\n",
    "* This section\n",
    "    - Chapter 10 : \"Automated Face Analysis for Affective Computing\"\n",
    "        - how computer vision techniques can be informed by human approaches to measure and code facial behavior.\n",
    "        - face detection, tracking, registration, extraction, and supervised learning techniques\n",
    "        - applications :\n",
    "            - physical pain assessment and management.\n",
    "            - detection of psychological distress, depression, and deception\n",
    "            - studies on interpersonal coordination\n",
    "    - Chapter 11 : \"Automatic Recognition of Affective Body Expressions\"\n",
    "        - Technologies that capture both fine- and coarse-grained body movements are becoming ubiquitous owing to their low cost and easy integration in real-world applications.\n",
    "            - Microsoft's Kinect\n",
    "    - Chapter 12 : \"Speech in Affective Computing\"\n",
    "        - This chapter \n",
    "            - starts with the fundamental issue of understanding how expressive speech is produced by vocal organs, \n",
    "            - followed by the process of extracting acoustic-prosodic features from the speech signal, \n",
    "            - thereby leading to the development of speech-based affect detectors.\n",
    "    - Chapter 13 : \"Affect Detection in Texts\"\n",
    "        - Affect detection from language, sometimes called sentiment analysis.\n",
    "        - They begin with a description of lexical resources that can be leveraged in affective natural language processing tasks.\n",
    "        - Next, they introduce state-of-art knowledge-based and corpus-based methods for detecting affect from text.\n",
    "        - applications :\n",
    "            - humor recognition\n",
    "            - a study on how extralinquistic features (e.g., music) can be used for affect detection.\n",
    "    - Chapter 14 : \"Physiological Sensing of Affect\"\n",
    "        - This chapter\n",
    "            - provides a brief history of psychophysiology of affect, \n",
    "            - followed by a very accessible introducction to physiological sensors, measures, and features that can be exploited for affect detection.\n",
    "    - Chapter 15 : \"Affective Brain-Computer Interfaces : Neuroscientific Approaches to Affect Detection\"\n",
    "        - Their chapter reviews the theory underlying neuropyschological approaches for affect detection along with a discussion of some of the technical aspects of these approachs,\n",
    "            - with an emphasis on electrophysiological (EEG) signals.\n",
    "    - Chapter 16 : \"Interaction-Based Affect Detection in Educational Software\"\n",
    "        - context of intelligent tutoring systems and educational games.\n",
    "        - In addition to reviewing the state of teh art, their discussion on methodological consideratoins - such as\n",
    "            - ground truth measures,\n",
    "            - feature engineering, and\n",
    "            - detection validation\n",
    "    - Chapter 17 : \"Multimodal Affect Detection for Naturalistic Human-Computer and Human-Robot Interacions\"\n",
    "        - Human communication is inherently multimodal, so it is informative to consider multimodal approaches to affect detection."
   ]
  },
  {
   "cell_type": "markdown",
   "metadata": {},
   "source": [
    "## Section 3: Affect Generation"
   ]
  },
  {
   "cell_type": "markdown",
   "metadata": {},
   "source": [
    "* Section 3 focuses on another important step toward building affect-aware systems - affect generation.\n",
    "* More specifically, chapters in this section focus on embodied conversatinal agents (ECAs)\n",
    "    - (e.g., animated agents, virtual characters, avatars)\n",
    "    - that generate synthetic emotions and express them via noverbal behaviors.\n",
    "* This section\n",
    "    - Chapter 18 : \"Facial Expressions of Emotions for Virtual Characters\"\n",
    "        - How reserchers are developing ECAs capable of generating a gamut of facial expressions that convey emotions.\n",
    "        - The chapter introduces the methodologies used to identify these morphological and dynamic features.\n",
    "        - It also discusses the methods that can be used measure the relationship between \n",
    "            - ECA's emotional expressions and\n",
    "            - the user's perception of the interaction.\n",
    "    - Chapter 19 : \"Expressing Emotion Through Posture and Gesture\"\n",
    "        - ECAs, just like humans, can be endowed with a complete body that moves and expresses emotions through its gestures.\n",
    "    - Chapter 20 : \"Emotional Speech Synthesis\"\n",
    "        - Software agents are increasingly common in applications ranging from marketing to eduction.\n",
    "        - Siri\n",
    "        - This chapter provide a general architecture for emotional speech synthesis; \n",
    "            - basic modeling and technical approaches.\n",
    "    - Chapter 21 : \"Emotion Modeling for Social Robots\"\n",
    "        - They begin by describing the affective loop\n",
    "            - where the user first expresses en emotion and\n",
    "            - then the system responds by expressing an appropriate emotional respnse.\n",
    "    - Chapter 22 : \"Preparing Emotinal Agents for Intercultural Communication\"\n",
    "        - The challenge of how agents and robots can be designed to communicate with humans from different cultural and social backgrounds.\n",
    "        - We need to \n",
    "            - understand how emotions are expressed across cultures and \n",
    "            - improve our emotion detection and generation techniques \n",
    "                - by either fine-tuning them to particular cultures or \n",
    "                - by generalizing across cultures (to the extent possible). "
   ]
  },
  {
   "cell_type": "markdown",
   "metadata": {},
   "source": [
    "## Section 4: Affective Computing Methodologies"
   ]
  },
  {
   "cell_type": "markdown",
   "metadata": {},
   "source": [
    "* This section presents many of these \"new\" methodologies that are being used by AC researchers to develop interfaces and techniques to make affect compute.\n",
    "* This section\n",
    "    - Chapter 23 : \"Multimodal Affect Databases - Collection, Challenges, and Chances\"\n",
    "        - The chapter discusses the challenge of collecting and annotating affective data, particularly when more than one sensor or modality is used.\n",
    "            - (1) ethical issues,\n",
    "            - (2) recording and reusing,\n",
    "            - (3) metainformation,\n",
    "            - (4) synchronizing streams,\n",
    "            - (5) modelilng,\n",
    "            - (6) labeling, \n",
    "            - (7) standardizing, \n",
    "            - (8) partitioning,\n",
    "            - (9) verifying perception and baseline results, and\n",
    "            - (10) releasing the data to the wider community\n",
    "    - Chapter 24 : \"Ethical Issues in Affective Computing\"\n",
    "    - Chapter 25 : \"Research and Development Tools in Affective Computing\"\n",
    "    - Chapter 26 : \"Emotion Data Collection and Its Implication for Affective Computing\"\n",
    "        - naturalistic collection of affective data \n",
    "            while people interact with technology.\n",
    "    - Chapter 27 : \"Affect Elicitation for Affective Computing\"\n",
    "        - This discuss ways to reliably elicit emotions in the lab or \"in the wild\"(i.e., real-world situations)\n",
    "            - passive methods\n",
    "                - video clips, music, or other stimuli\n",
    "            - active methods\n",
    "                - involve engaging participants in interactions with other people or where they are asked to enact certain behaviors, postures, or facial expressions.\n",
    "    - Chapter 28 : \"Crowdsourcing Techniques for Affective Computing\"\n",
    "        - One of the most time-consuming and expensive stages of developing an affective database is affect labeling or annotation.\n",
    "        - Often this task can be outsource to a large number of loosely coordinated individuals at a much lower cost and with a much faster turnaround time. \n",
    "        - This process is called crowdsourcing.\n",
    "    - Chapter 29 : \"Emotion Markup Language\"\n",
    "        - EmotionML, \n",
    "            - the markup language for AC recommended \n",
    "                - by the World Wide Web Consortium(W3C).\n",
    "        - EmotionML is designed to represent and communicate affective representations across a series of use cases that coveer several types of applicatons.\n",
    "    - Chapter 30 : \"Machine Learning Techniques in Affective Computing\"\n",
    "        - Affect detection alogorithms generally use supervised machine learning techniques that use annotated data for training."
   ]
  },
  {
   "cell_type": "markdown",
   "metadata": {},
   "source": [
    "## Section 5: Affective Computing Applications"
   ]
  },
  {
   "cell_type": "markdown",
   "metadata": {},
   "source": [
    "* One of the key goals of AC is to develop concrete applicatoins that expand the bandwidth of HCI via affective or emotional design.\n",
    "* In line with this, this section highlights existing and emerging applications from a range of domains but with an emphasis on affect a their core.\n",
    "* This section\n",
    "    - Chapter 31 : \"Feling, Thinking, and Computing with Affect-Aware Learning Technologies\"\n",
    "        - Educational technologies\n",
    "            - reactive systems\n",
    "                - that respond when affective states are detected\n",
    "            - proactive systems\n",
    "                - that promote or reduce the likelihood of occurrence of certain affective states.\n",
    "    - Chapter 32 : \"Enhancing Informal Learning Experiences with Affect-Aware Technologies\"\n",
    "        - Learning is a lifelong endeavor. and much of learning occurs outside of formal educational settings, including\n",
    "            - museums, science centers, and zoos.\n",
    "        - How these technologies can be used to promote interest and attitudes in addition to knowledge when visitors engage in informal learning contexts.\n",
    "    - Chapter 33 : \"Affect-Aware Reflective Writing Studios\"\n",
    "        - Changes in our writing environments brought about by the information age alter the writing process itself.\n",
    "        - how new technologies can be used to produce tools that writers can use to reflect on the process they adopt, including circumstances in which they are most productive or enjoy writing the most.\n",
    "    - Chapter 34 : \"Emotion in Games\"\n",
    "        - They review key studies on the intersection between affect, game design, and technology and discuss how to engineer effective affect-based gaming interactions.\n",
    "    - Chapter 35 : \"Autonomus Closed-Loop Biofeedback: An Introduction and Melodious application\"\n",
    "        - affect-focused music adaptation\n",
    "        - The chapter starts by considering some of the key issues involved in engineering closed-loop affective biofeedback systems and applies these insights to the development and real-world validation of an affective music player.\n",
    "    - Chapter 36 : \"Affect in Human Robot Interaction\"\n",
    "        - various issues involved in this endeavor.\n",
    "        - how affect-aware robotics can addd value(or risks) to humman-robot interactions.\n",
    "        - such robots can become companions or friends, and issues regarding the role of embodiment in affective robotics.\n",
    "    - Chapter 37 : \"Virtual Reality and Collaboration\"\n",
    "        - how collaborative virtual environments can be built to support participants' expressions of affect via veerbal and noverbal behaviors.\n",
    "    - Chapter 38 : \"Unobtrusive Deception Detection\"\n",
    "        - This focuses on an aspect of human-human communication that is of great importance in an era that is struggling to strike a balnce between security and liberty.\n",
    "        - This chapter explores algorithms and technology that can be used to detect and classify deception using remote measures of behaviors and physiology.\n",
    "    - Chapter 39 : \"Affective Computing, Emotional Development, and Autism\"\n",
    "        - How AC can serve as the basis for new types of tools for helping children with ASDs(autism spectrum disorders)\n",
    "    - Chapter 40 : \"Relatoinal Agents in Health Applications : Leveraging Affective Computing to Promote Healing and Wellness\"\n",
    "        - how affect-aware relational agents can build patient-agent rapport, turst, and the therapeutic alliance that is so important in health-care practices.\n",
    "    - Chapter 41 : \"Cyberpsychology and Affective Computing\"\n",
    "        - In priciple, any technology that can help people change their mindsets and behavior can be used to imporve psychological well-being."
   ]
  },
  {
   "cell_type": "markdown",
   "metadata": {},
   "source": [
    "----------------"
   ]
  },
  {
   "cell_type": "markdown",
   "metadata": {},
   "source": [
    "# 2. The Promise of Affective Computing"
   ]
  },
  {
   "cell_type": "markdown",
   "metadata": {},
   "source": [
    "This chaper is adapted from an invited introduction written for of the IEEE Transactions on Affective Computing, telling personal stories and shareing the viwpoints of a pioneer and visionary of the field of affective computing."
   ]
  },
  {
   "cell_type": "markdown",
   "metadata": {},
   "source": [
    "## Introduction"
   ]
  },
  {
   "cell_type": "markdown",
   "metadata": {},
   "source": [
    "<img src=\"figures/cap2.1.png\" width=600 />"
   ]
  },
  {
   "cell_type": "markdown",
   "metadata": {},
   "source": [
    "* Jodie\n",
    "    - an young woman\n",
    "    - autistic people\n",
    "    - emotional arousal \n",
    "    - masured by a wristband that gathers three signals\n",
    "        - skin conductance,\n",
    "        - motion\n",
    "        - temperature\n",
    "* Objective data about emotions carries much more power than self-reported subjective feelings.\n",
    "* Other applications :\n",
    "    - marketing\n",
    "* Thechnology can also be improved if it has an intelligent ability to respond to emotion.\n",
    "    - Intelligence about emotion is not easy.\n",
    "* Technology can also be improved by virtue of incorporatoin principles of emtion learned from biological systems."
   ]
  },
  {
   "cell_type": "markdown",
   "metadata": {},
   "source": [
    "## In the Beginning, Laughter ..."
   ]
  },
  {
   "cell_type": "markdown",
   "metadata": {},
   "source": [
    "* Manfred Clynes\n",
    "    - sentograph\n",
    "    - Cyborg\n",
    "    - build a machine to meaure emotional categories"
   ]
  },
  {
   "cell_type": "markdown",
   "metadata": {},
   "source": [
    "## Discovering Real Importance for Emotion"
   ]
  },
  {
   "cell_type": "markdown",
   "metadata": {},
   "source": [
    "* I was up for tenure at MIT, working hard raising money, and conducting what people later praised as pioneering research in image and video pattern modeling.\n",
    "* Heck, I was a woman coming from engineering. I did not want to be associated with \"emotional\", which also was used to stereotype women, typically with a derogatory tone of voice. If anybody needed to start work in this area, it needed to be a man.\n",
    "* Vision\n",
    "    - Vision is affected by attention, and attention is affected by what matters to you. Vision - real seeing - is guided by feelings of importance.\n",
    "* Motivation\n",
    "    - However, never did anyone figure out how to give a computer anything like motivation, drive, and a sence of how to evaluate shifting priorities in a way that acted genuinely intelligent.\n",
    "    - The machines did not genuinely care about anything.\n",
    "* emotion systems\n",
    "    - Today, we know tath biological emotion systems operate to help human beings handle complex, unpredictable inputs in real time.\n",
    "    - Today, we know that emotions signal what matters, what you care about.\n",
    "    - Today, we know emotion is involved in rational decision making and action seletion and that, to behave rationally in real life, you need to habe a properly functioning emotion system.\n",
    "* AI"
   ]
  },
  {
   "cell_type": "markdown",
   "metadata": {},
   "source": [
    "## Who Wants to Risk Ruining His Reputation"
   ]
  },
  {
   "cell_type": "markdown",
   "metadata": {},
   "source": [
    "\"You should take risks! This is the time to take risks.\""
   ]
  },
  {
   "cell_type": "markdown",
   "metadata": {},
   "source": [
    "## Visionary Supporters Trump Peer Review"
   ]
  },
  {
   "cell_type": "markdown",
   "metadata": {},
   "source": [
    "* I am a big fan of peer review, and I work hard to maintain the integrity of that process.\n",
    "    - But there are times in the life of new ideas when preer-reviewed papers don't statnd a chance of geting published.\n",
    "* Media Lab\n",
    "* Nicholas Negroponte\n",
    "* Wired column"
   ]
  },
  {
   "cell_type": "markdown",
   "metadata": {},
   "source": [
    "## ... to IEEE and Beyond"
   ]
  },
  {
   "cell_type": "markdown",
   "metadata": {},
   "source": [
    "* I have a long history with the IEEE, from joining as a student to decades later being honored as a Fellow.\n",
    "* Association of Computing Machinery (ACM) alos rejectd my first of Computing Machinery (ACM) also rejected my first affective computing sumission as\n",
    "    - \"not matching any of the topics or themes in the human-computer area\"\n",
    "    - I wondered from the review if they had even read the paper or just jected it when they saw it addressed emotion."
   ]
  },
  {
   "cell_type": "markdown",
   "metadata": {},
   "source": [
    "Whether or not affective computing is an area in which you conduct research, you are using emotion when you choose to read this.\n",
    "\n",
    "Your are involving your emotion system when you make a decision where to spend your time - when you act on what matters most to you.\n",
    "\n",
    "Affective computing researchers have a chance to elucidate how emotion works:\n",
    "* how to build it\n",
    "* how to meauser it\n",
    "* how to help people better communicate and understand it\n",
    "* how to use this knowledge to engineer smarter technology\n",
    "* how to use it to create experiences that improve lives.\n",
    "\n",
    "<font color=\"red\">I believe it cantains the most complex real-time problems to be solved in human-computer interaction and in comlputer science models of human behavior and intelligence</font>."
   ]
  },
  {
   "cell_type": "markdown",
   "metadata": {},
   "source": [
    "# 참고자료\n",
    "* [1] The Oxford Handbook of Affective Computing -  https://www.amazon.com/Handbook-Affective-Computing-Library-Psychology/dp/0199942234\n",
    "* [2] Manfred Clynes - https://en.wikipedia.org/wiki/Manfred_Clynes\n",
    "* [3] Rosalind Picard - https://en.wikipedia.org/wiki/Rosalind_Picard"
   ]
  }
 ],
 "metadata": {
  "kernelspec": {
   "display_name": "Python 2",
   "language": "python",
   "name": "python2"
  },
  "language_info": {
   "codemirror_mode": {
    "name": "ipython",
    "version": 2
   },
   "file_extension": ".py",
   "mimetype": "text/x-python",
   "name": "python",
   "nbconvert_exporter": "python",
   "pygments_lexer": "ipython2",
   "version": "2.7.10"
  }
 },
 "nbformat": 4,
 "nbformat_minor": 0
}
