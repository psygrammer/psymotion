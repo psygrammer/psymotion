{
 "cells": [
  {
   "cell_type": "markdown",
   "metadata": {},
   "source": [
    "# 5. Apprasial Models"
   ]
  },
  {
   "cell_type": "markdown",
   "metadata": {},
   "source": [
    "* 싸이그래머 / 싸이모션 : 파트 1 - AC [1]\n",
    "* 김무성"
   ]
  },
  {
   "cell_type": "markdown",
   "metadata": {},
   "source": [
    "#### 참고\n",
    "* [2] Theories of Emotion http://dhs.dist113.org/Faculty/KauffmanJ/Documents/AP%20Unit%2010%20Motivation%20and%20Emotion/1314%20Emotion%20and%20Stress.ppt\n",
    "* [3] Appraisal theory - From Wikipedia - https://en.wikipedia.org/wiki/Appraisal_theory[4] \n",
    "* [4] Computational Models of Emotion - http://people.ict.usc.edu/~gratch/papers/MarGraPet_Review.pdf\n",
    "* [5] A few publications of Jonathan Gratch -  http://people.ict.usc.edu/~gratch/pubs.html"
   ]
  },
  {
   "cell_type": "markdown",
   "metadata": {},
   "source": [
    "# Contents\n",
    "* Abstract\n",
    "* Introduction\n",
    "* Appraisal Theory\n",
    "* A Component Model View\n",
    "* Challenges and Futrue Directions"
   ]
  },
  {
   "cell_type": "markdown",
   "metadata": {},
   "source": [
    "<img src=\"https://upload.wikimedia.org/wikipedia/commons/2/2f/Transactional_Model_of_Stress_and_Coping_-_Richard_Lazarus.svg\" width=600 />"
   ]
  },
  {
   "cell_type": "markdown",
   "metadata": {},
   "source": [
    "# Abstract"
   ]
  },
  {
   "cell_type": "markdown",
   "metadata": {},
   "source": [
    "# Introduction"
   ]
  },
  {
   "cell_type": "markdown",
   "metadata": {},
   "source": [
    "This chapter discusses appraisal theory, the most influential theory of emotion in affective computing today."
   ]
  },
  {
   "cell_type": "markdown",
   "metadata": {},
   "source": [
    "More contemporyary theoretical debates center on the relationship between emotion and cognition.\n",
    "* Is emotional reasoning somehow distict and qualitatively different from unemotional resoning?"
   ]
  },
  {
   "cell_type": "markdown",
   "metadata": {},
   "source": [
    "This chaper is structured as follows. \n",
    "* We first review appraisal theories, examine why they arose, and discuss some of influential variants. \n",
    "* We then discuss why appraisal theories play such a prominent rule in computational models and how some of their properties are particularly well-suited for computational realization.\n",
    "* We outline some of the contemporary computational approaches based on appraisal theory and the practical systems they help support.\n",
    "* Finally, we discuss open challenges and future directions. "
   ]
  },
  {
   "cell_type": "markdown",
   "metadata": {},
   "source": [
    "# Appraisal Theory"
   ]
  },
  {
   "cell_type": "markdown",
   "metadata": {},
   "source": [
    "<img src=\"figures/cap5.1.png\" width=600 />      "
   ]
  },
  {
   "cell_type": "markdown",
   "metadata": {},
   "source": [
    "<img src=\"figures/cap5.2.png\" width=600 />      "
   ]
  },
  {
   "cell_type": "markdown",
   "metadata": {},
   "source": [
    "<img src=\"figures/cap5.3.png\" width=600 />      "
   ]
  },
  {
   "cell_type": "markdown",
   "metadata": {},
   "source": [
    "<img src=\"figures/cap5.4.png\" width=600 />      "
   ]
  },
  {
   "cell_type": "markdown",
   "metadata": {},
   "source": [
    "# A Component Model View"
   ]
  },
  {
   "cell_type": "markdown",
   "metadata": {},
   "source": [
    "<img src=\"figures/cap5.5.png\" width=600 />"
   ]
  },
  {
   "cell_type": "markdown",
   "metadata": {},
   "source": [
    "# Challenges and Futrue Directions"
   ]
  },
  {
   "cell_type": "markdown",
   "metadata": {},
   "source": [
    "# 참고자료\n",
    "* [1] The Oxford Handbook of Affective Computing (Oxford Library of Psychology) - http://www.amazon.com/Handbook-Affective.../dp/0199942234\n",
    "* [2] Theories of Emotion http://dhs.dist113.org/Faculty/KauffmanJ/Documents/AP%20Unit%2010%20Motivation%20and%20Emotion/1314%20Emotion%20and%20Stress.ppt\n",
    "* [3] Appraisal theory - From Wikipedia - https://en.wikipedia.org/wiki/Appraisal_theory[4] \n",
    "* [4] Computational Models of Emotion - http://people.ict.usc.edu/~gratch/papers/MarGraPet_Review.pdf\n",
    "* [5] A few publications of Jonathan Gratch -  http://people.ict.usc.edu/~gratch/pubs.html"
   ]
  }
 ],
 "metadata": {
  "kernelspec": {
   "display_name": "Python 2",
   "language": "python",
   "name": "python2"
  },
  "language_info": {
   "codemirror_mode": {
    "name": "ipython",
    "version": 2
   },
   "file_extension": ".py",
   "mimetype": "text/x-python",
   "name": "python",
   "nbconvert_exporter": "python",
   "pygments_lexer": "ipython2",
   "version": "2.7.6"
  }
 },
 "nbformat": 4,
 "nbformat_minor": 0
}
